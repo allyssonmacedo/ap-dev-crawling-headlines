{
 "cells": [
  {
   "cell_type": "markdown",
   "metadata": {
    "id": "ODnlQ5O9S3g4"
   },
   "source": [
    "# <font color='blue'>Scrapping com BeautifulSoup</font>\n",
    "# <font color='blue'>Apoena Stack</font>"
   ]
  },
  {
   "cell_type": "markdown",
   "metadata": {
    "id": "pcMDr8-Uxsz8"
   },
   "source": [
    "### Link referência : https://beautiful-soup-4.readthedocs.io/en/latest/"
   ]
  },
  {
   "cell_type": "markdown",
   "metadata": {},
   "source": [
    "### 1 - Extraindo Dados de Páginas Web"
   ]
  },
  {
   "cell_type": "code",
   "execution_count": 1,
   "metadata": {
    "id": "fCXVozZ1GRSO"
   },
   "outputs": [],
   "source": [
    "# Imports\n",
    "# https://pypi.org/project/beautifulsoup4/\n",
    "from bs4 import BeautifulSoup\n",
    "from bs4 import SoupStrainer"
   ]
  },
  {
   "cell_type": "code",
   "execution_count": 2,
   "metadata": {
    "id": "WTrxAjJE3GKm"
   },
   "outputs": [],
   "source": [
    "html_doc = \"\"\"\n",
    "<html>\n",
    "<head>\n",
    "    <title>Os Mestres da Literatura</title>\n",
    "</head>\n",
    "<body>\n",
    "    <p class=\"title\"><b>História dos Mestres da Literatura</b></p>\n",
    "    <p class=\"story\">Era uma vez três autores renomados; e seus nomes eram\n",
    "    <a href=\"http://www.exemplo.com/alice\" class=\"autor\" id=\"link1\">Alice</a>,\n",
    "    <a href=\"http://www.exemplo.com/bruno\" class=\"autor\" id=\"link2\">Bruno</a> e\n",
    "    <a href=\"http://www.exemplo.com/clara\" class=\"autor\" id=\"link3\">Clara</a>;\n",
    "    e eles viviam em Paris, na França.</p>\n",
    "    <p class=\"historia\">...</p>\n",
    "    <h1>Mestres da Literatura</h1>\n",
    "    <ul>\n",
    "        <li data-id=\"23456\">Alice Martins, autora de romances históricos.</li>\n",
    "        <li data-id=\"34567\">Bruno Lima, autor de ficção científica.</li>\n",
    "        <li data-id=\"45678\">Clara Rocha, autora de poesia contemporânea.</li>\n",
    "    </ul>\n",
    "</body>\n",
    "</html>\n",
    "\"\"\""
   ]
  },
  {
   "cell_type": "code",
   "execution_count": 4,
   "metadata": {},
   "outputs": [
    {
     "data": {
      "text/plain": [
       "<bs4.element.SoupStrainer at 0x16979e3e3b0>"
      ]
     },
     "execution_count": 4,
     "metadata": {},
     "output_type": "execute_result"
    }
   ],
   "source": [
    "# Extraindo a tag a\n",
    "tagsA = SoupStrainer(\"a\")\n",
    "tagsA"
   ]
  },
  {
   "cell_type": "code",
   "execution_count": 5,
   "metadata": {},
   "outputs": [
    {
     "data": {
      "text/plain": [
       "<a class=\"autor\" href=\"http://www.exemplo.com/alice\" id=\"link1\">Alice</a><a class=\"autor\" href=\"http://www.exemplo.com/bruno\" id=\"link2\">Bruno</a><a class=\"autor\" href=\"http://www.exemplo.com/clara\" id=\"link3\">Clara</a>"
      ]
     },
     "execution_count": 5,
     "metadata": {},
     "output_type": "execute_result"
    }
   ],
   "source": [
    "# pegando apenas os dados que estão na tag selecionada\n",
    "soupA = BeautifulSoup(html_doc, parse_only = tagsA)\n",
    "soupA"
   ]
  },
  {
   "cell_type": "code",
   "execution_count": 6,
   "metadata": {},
   "outputs": [
    {
     "name": "stdout",
     "output_type": "stream",
     "text": [
      "<class 'bs4.BeautifulSoup'>\n"
     ]
    }
   ],
   "source": [
    "print(type(soupA))"
   ]
  },
  {
   "cell_type": "code",
   "execution_count": 7,
   "metadata": {
    "id": "l0HzpO7f3P2o"
   },
   "outputs": [
    {
     "name": "stdout",
     "output_type": "stream",
     "text": [
      "<a class=\"autor\" href=\"http://www.exemplo.com/alice\" id=\"link1\">Alice</a><a class=\"autor\" href=\"http://www.exemplo.com/bruno\" id=\"link2\">Bruno</a><a class=\"autor\" href=\"http://www.exemplo.com/clara\" id=\"link3\">Clara</a>\n"
     ]
    }
   ],
   "source": [
    "print(soupA)"
   ]
  },
  {
   "cell_type": "code",
   "execution_count": 8,
   "metadata": {
    "id": "wwcB4MAQ4lnL"
   },
   "outputs": [
    {
     "name": "stdout",
     "output_type": "stream",
     "text": [
      "<a class=\"autor\" href=\"http://www.exemplo.com/alice\" id=\"link1\">\n",
      " Alice\n",
      "</a>\n",
      "<a class=\"autor\" href=\"http://www.exemplo.com/bruno\" id=\"link2\">\n",
      " Bruno\n",
      "</a>\n",
      "<a class=\"autor\" href=\"http://www.exemplo.com/clara\" id=\"link3\">\n",
      " Clara\n",
      "</a>\n"
     ]
    }
   ],
   "source": [
    "# Formatando o resultado\n",
    "print(soupA.prettify())"
   ]
  },
  {
   "cell_type": "code",
   "execution_count": 9,
   "metadata": {
    "id": "6GZKJ4R-4rKS"
   },
   "outputs": [
    {
     "name": "stdout",
     "output_type": "stream",
     "text": [
      "True\n",
      "True\n"
     ]
    }
   ],
   "source": [
    "# O objeto soupA tem atributo classe?\n",
    "print(soupA.a.has_attr('class'))\n",
    "# O objeto soupA tem atributo href?\n",
    "print(soupA.a.has_attr('href'))"
   ]
  },
  {
   "cell_type": "code",
   "execution_count": 10,
   "metadata": {},
   "outputs": [
    {
     "name": "stdout",
     "output_type": "stream",
     "text": [
      "False\n"
     ]
    }
   ],
   "source": [
    "# O objeto soupA tem atributo name?\n",
    "print(soupA.a.has_attr('name'))"
   ]
  },
  {
   "cell_type": "markdown",
   "metadata": {
    "id": "8t4X8Q2z4-JZ"
   },
   "source": [
    "### 2 - Como Organizar e Analisar Dados Extraídos da Web"
   ]
  },
  {
   "cell_type": "code",
   "execution_count": 11,
   "metadata": {},
   "outputs": [
    {
     "name": "stdout",
     "output_type": "stream",
     "text": [
      "<a class=\"autor\" href=\"http://www.exemplo.com/alice\" id=\"link1\">Alice</a>\n"
     ]
    }
   ],
   "source": [
    "print(soupA.find(\"a\"))"
   ]
  },
  {
   "cell_type": "code",
   "execution_count": 12,
   "metadata": {},
   "outputs": [
    {
     "name": "stdout",
     "output_type": "stream",
     "text": [
      "[<a class=\"autor\" href=\"http://www.exemplo.com/alice\" id=\"link1\">Alice</a>, <a class=\"autor\" href=\"http://www.exemplo.com/bruno\" id=\"link2\">Bruno</a>, <a class=\"autor\" href=\"http://www.exemplo.com/clara\" id=\"link3\">Clara</a>]\n",
      "\n",
      " Limitando a quantidade de retorno: \n",
      "\n",
      "[<a class=\"autor\" href=\"http://www.exemplo.com/alice\" id=\"link1\">Alice</a>, <a class=\"autor\" href=\"http://www.exemplo.com/bruno\" id=\"link2\">Bruno</a>]\n",
      "\n",
      " Abaixo apenas um elemento: \n",
      "\n",
      "<a class=\"autor\" href=\"http://www.exemplo.com/alice\" id=\"link1\">\n",
      " Alice\n",
      "</a>\n",
      "\n"
     ]
    }
   ],
   "source": [
    "# Pegando todas as tags\n",
    "find_all_a = soupA.find_all(\"a\")\n",
    "\n",
    "print(find_all_a)\n",
    "\n",
    "print('\\n Limitando a quantidade de retorno: \\n')\n",
    "\n",
    "print(soupA.find_all(\"a\", limit = 2))\n",
    "\n",
    "print('\\n Abaixo apenas um elemento: \\n')\n",
    "\n",
    "print(find_all_a[0].prettify())"
   ]
  },
  {
   "cell_type": "code",
   "execution_count": 13,
   "metadata": {},
   "outputs": [
    {
     "name": "stdout",
     "output_type": "stream",
     "text": [
      "<a class=\"autor\" href=\"http://www.exemplo.com/alice\" id=\"link1\">Alice</a>\n"
     ]
    }
   ],
   "source": [
    "# pega o primeiro elemento da tag que corresponde ao atributo selecionado\n",
    "print(soupA.find(\"a\", attrs = {'id':'link1'}))"
   ]
  },
  {
   "cell_type": "code",
   "execution_count": 14,
   "metadata": {},
   "outputs": [
    {
     "name": "stdout",
     "output_type": "stream",
     "text": [
      "<a class=\"autor\" href=\"http://www.exemplo.com/alice\" id=\"link1\">Alice</a>\n"
     ]
    }
   ],
   "source": [
    "# pega o primeiro elemento da tag que corresponde ao texto selecionado\n",
    "print(soupA.find(\"a\", attrs = {'class':'autor'}, text = \"Alice\"))"
   ]
  },
  {
   "cell_type": "code",
   "execution_count": 15,
   "metadata": {},
   "outputs": [
    {
     "name": "stdout",
     "output_type": "stream",
     "text": [
      "<a class=\"autor\" href=\"http://www.exemplo.com/bruno\" id=\"link2\">Bruno</a>\n"
     ]
    }
   ],
   "source": [
    "# uma outra variação de filtro de atributos\n",
    "print(soupA.find('a', id = \"link2\"))"
   ]
  },
  {
   "cell_type": "code",
   "execution_count": 16,
   "metadata": {
    "id": "cAMwOsp05tdr"
   },
   "outputs": [],
   "source": [
    "# Para usar expressão regular nos filtros\n",
    "import re"
   ]
  },
  {
   "cell_type": "code",
   "execution_count": 17,
   "metadata": {},
   "outputs": [
    {
     "name": "stdout",
     "output_type": "stream",
     "text": [
      "<a class=\"autor\" href=\"http://www.exemplo.com/alice\" id=\"link1\">Alice</a>\n"
     ]
    }
   ],
   "source": [
    "print(soupA.find(\"a\", text = re.compile(r'ice')))"
   ]
  },
  {
   "cell_type": "code",
   "execution_count": 18,
   "metadata": {},
   "outputs": [
    {
     "name": "stdout",
     "output_type": "stream",
     "text": [
      "[<a class=\"autor\" href=\"http://www.exemplo.com/clara\" id=\"link3\">Clara</a>]\n"
     ]
    }
   ],
   "source": [
    "print(soupA.find_all(\"a\", attrs = {'id':re.compile(r'3')}))"
   ]
  },
  {
   "cell_type": "code",
   "execution_count": 19,
   "metadata": {},
   "outputs": [
    {
     "name": "stdout",
     "output_type": "stream",
     "text": [
      "[<a class=\"autor\" href=\"http://www.exemplo.com/alice\" id=\"link1\">Alice</a>, <a class=\"autor\" href=\"http://www.exemplo.com/bruno\" id=\"link2\">Bruno</a>, <a class=\"autor\" href=\"http://www.exemplo.com/clara\" id=\"link3\">Clara</a>]\n"
     ]
    }
   ],
   "source": [
    "# Aqui vai retornar uma lista e você terá que tratar os casos separadamente, caso necessário\n",
    "print(soupA.find_all(re.compile(r'a')))"
   ]
  },
  {
   "cell_type": "code",
   "execution_count": 20,
   "metadata": {},
   "outputs": [
    {
     "name": "stdout",
     "output_type": "stream",
     "text": [
      "\n",
      "<html>\n",
      "<head>\n",
      "    <title>Os Mestres da Literatura</title>\n",
      "</head>\n",
      "<body>\n",
      "    <p class=\"title\"><b>História dos Mestres da Literatura</b></p>\n",
      "    <p class=\"story\">Era uma vez três autores renomados; e seus nomes eram\n",
      "    <a href=\"http://www.exemplo.com/alice\" class=\"autor\" id=\"link1\">Alice</a>,\n",
      "    <a href=\"http://www.exemplo.com/bruno\" class=\"autor\" id=\"link2\">Bruno</a> e\n",
      "    <a href=\"http://www.exemplo.com/clara\" class=\"autor\" id=\"link3\">Clara</a>;\n",
      "    e eles viviam em Paris, na França.</p>\n",
      "    <p class=\"historia\">...</p>\n",
      "    <h1>Mestres da Literatura</h1>\n",
      "    <ul>\n",
      "        <li data-id=\"23456\">Alice Martins, autora de romances históricos.</li>\n",
      "        <li data-id=\"34567\">Bruno Lima, autor de ficção científica.</li>\n",
      "        <li data-id=\"45678\">Clara Rocha, autora de poesia contemporânea.</li>\n",
      "    </ul>\n",
      "</body>\n",
      "</html>\n",
      "\n"
     ]
    }
   ],
   "source": [
    "## relembrando o arquivo inicial\n",
    "print(html_doc)"
   ]
  },
  {
   "cell_type": "code",
   "execution_count": 4,
   "metadata": {},
   "outputs": [],
   "source": [
    "soup = BeautifulSoup(html_doc)"
   ]
  },
  {
   "cell_type": "code",
   "execution_count": 24,
   "metadata": {},
   "outputs": [
    {
     "name": "stdout",
     "output_type": "stream",
     "text": [
      "[<p class=\"historia\">...</p>]\n"
     ]
    }
   ],
   "source": [
    "print(soup.find_all(\"p\", \"historia\"))"
   ]
  },
  {
   "cell_type": "code",
   "execution_count": 25,
   "metadata": {},
   "outputs": [
    {
     "name": "stdout",
     "output_type": "stream",
     "text": [
      "[<p class=\"title\"><b>História dos Mestres da Literatura</b></p>]\n"
     ]
    }
   ],
   "source": [
    "print(soup.find_all(\"p\", \"title\"))"
   ]
  },
  {
   "cell_type": "code",
   "execution_count": 26,
   "metadata": {},
   "outputs": [
    {
     "name": "stdout",
     "output_type": "stream",
     "text": [
      "[<p class=\"title\"><b>História dos Mestres da Literatura</b></p>, <p class=\"historia\">...</p>]\n"
     ]
    }
   ],
   "source": [
    "print(soup.find_all(\"p\", attrs = {'class':['title','historia']}))"
   ]
  },
  {
   "cell_type": "code",
   "execution_count": 28,
   "metadata": {
    "id": "0assm9Zq5978"
   },
   "outputs": [
    {
     "name": "stdout",
     "output_type": "stream",
     "text": [
      "[<p class=\"title\"><b>História dos Mestres da Literatura</b></p>, <p class=\"story\">Era uma vez três autores renomados; e seus nomes eram\n",
      "    <a class=\"autor\" href=\"http://www.exemplo.com/alice\" id=\"link1\">Alice</a>,\n",
      "    <a class=\"autor\" href=\"http://www.exemplo.com/bruno\" id=\"link2\">Bruno</a> e\n",
      "    <a class=\"autor\" href=\"http://www.exemplo.com/clara\" id=\"link3\">Clara</a>;\n",
      "    e eles viviam em Paris, na França.</p>, <p class=\"historia\">...</p>, <li data-id=\"23456\">Alice Martins, autora de romances históricos.</li>, <li data-id=\"34567\">Bruno Lima, autor de ficção científica.</li>, <li data-id=\"45678\">Clara Rocha, autora de poesia contemporânea.</li>]\n"
     ]
    }
   ],
   "source": [
    "print(soup.find_all([\"li\", \"p\"]))"
   ]
  },
  {
   "cell_type": "code",
   "execution_count": 29,
   "metadata": {},
   "outputs": [
    {
     "name": "stdout",
     "output_type": "stream",
     "text": [
      "['Alice']\n"
     ]
    }
   ],
   "source": [
    "print(soup.find_all(string = 'Alice'))"
   ]
  },
  {
   "cell_type": "code",
   "execution_count": 30,
   "metadata": {},
   "outputs": [
    {
     "name": "stdout",
     "output_type": "stream",
     "text": [
      "['Alice', 'Alice Martins, autora de romances históricos.']\n"
     ]
    }
   ],
   "source": [
    "print(soup.find_all(text = re.compile(r'ce')))"
   ]
  },
  {
   "cell_type": "code",
   "execution_count": 33,
   "metadata": {
    "id": "LXG5jhhTwCLD"
   },
   "outputs": [
    {
     "name": "stdout",
     "output_type": "stream",
     "text": [
      "<li data-id=\"34567\">Bruno Lima, autor de ficção científica.</li>\n"
     ]
    }
   ],
   "source": [
    "print(soup.ul.find('li', attrs = {'data-id':'34567'}))"
   ]
  },
  {
   "cell_type": "code",
   "execution_count": 35,
   "metadata": {},
   "outputs": [
    {
     "name": "stdout",
     "output_type": "stream",
     "text": [
      "Bruno Lima, autor de ficção científica.\n"
     ]
    }
   ],
   "source": [
    "print(soup.ul.find('li', attrs = {'data-id':'34567'}).text)"
   ]
  },
  {
   "cell_type": "code",
   "execution_count": 36,
   "metadata": {},
   "outputs": [
    {
     "name": "stdout",
     "output_type": "stream",
     "text": [
      "<b>História dos Mestres da Literatura</b>\n"
     ]
    }
   ],
   "source": [
    "print(soup.p.b)"
   ]
  },
  {
   "cell_type": "code",
   "execution_count": 37,
   "metadata": {},
   "outputs": [
    {
     "name": "stdout",
     "output_type": "stream",
     "text": [
      "História dos Mestres da Literatura\n"
     ]
    }
   ],
   "source": [
    "print(soup.p.text)"
   ]
  },
  {
   "cell_type": "markdown",
   "metadata": {
    "id": "Z9tvosK3w6hh"
   },
   "source": [
    "### 3 - Busca e Extração de Hierarquia da Página Web"
   ]
  },
  {
   "cell_type": "code",
   "execution_count": 40,
   "metadata": {},
   "outputs": [
    {
     "name": "stdout",
     "output_type": "stream",
     "text": [
      "['...']\n"
     ]
    }
   ],
   "source": [
    "print(list(soup.find('p', 'historia').children))"
   ]
  },
  {
   "cell_type": "code",
   "execution_count": 48,
   "metadata": {},
   "outputs": [
    {
     "name": "stdout",
     "output_type": "stream",
     "text": [
      "['\\n', <li data-id=\"23456\">Alice Martins, autora de romances históricos.</li>, '\\n', <li data-id=\"34567\">Bruno Lima, autor de ficção científica.</li>, '\\n', <li data-id=\"45678\">Clara Rocha, autora de poesia contemporânea.</li>, '\\n']\n"
     ]
    }
   ],
   "source": [
    "print(list(soup.find('ul').children))"
   ]
  },
  {
   "cell_type": "code",
   "execution_count": 43,
   "metadata": {},
   "outputs": [
    {
     "name": "stdout",
     "output_type": "stream",
     "text": [
      "[<b>História dos Mestres da Literatura</b>]\n"
     ]
    }
   ],
   "source": [
    "print(list(soup.find('p').contents))"
   ]
  },
  {
   "cell_type": "code",
   "execution_count": 44,
   "metadata": {},
   "outputs": [
    {
     "name": "stdout",
     "output_type": "stream",
     "text": [
      "[<b>História dos Mestres da Literatura</b>, 'História dos Mestres da Literatura']\n"
     ]
    }
   ],
   "source": [
    "print(list(soup.find('p').descendants))"
   ]
  },
  {
   "cell_type": "markdown",
   "metadata": {},
   "source": [
    "> Usando List Comprehension "
   ]
  },
  {
   "cell_type": "code",
   "execution_count": 52,
   "metadata": {
    "id": "pMi4xvuiOz7M"
   },
   "outputs": [
    {
     "name": "stdout",
     "output_type": "stream",
     "text": [
      "['\\n', 'Alice Martins, autora de romances históricos.', '\\n', 'Bruno Lima, autor de ficção científica.', '\\n', 'Clara Rocha, autora de poesia contemporânea.', '\\n']\n"
     ]
    }
   ],
   "source": [
    "print([a.text for a in soup.find('ul').children])"
   ]
  },
  {
   "cell_type": "code",
   "execution_count": 73,
   "metadata": {},
   "outputs": [
    {
     "name": "stdout",
     "output_type": "stream",
     "text": [
      "[{'text': 'Alice Martins, autora de romances históricos.', 'id': '23456'}, {'text': 'Bruno Lima, autor de ficção científica.', 'id': '34567'}, {'text': 'Clara Rocha, autora de poesia contemporânea.', 'id': '45678'}]\n"
     ]
    }
   ],
   "source": [
    "print([{'text':a.text,'id':a.get('data-id')} for a in soup.find('ul').children if a.name!=None])\n"
   ]
  },
  {
   "cell_type": "code",
   "execution_count": 80,
   "metadata": {},
   "outputs": [
    {
     "name": "stdout",
     "output_type": "stream",
     "text": [
      "['\\n', 'Alice Martins, autora de romances históricos.', 'Alice Martins, autora de romances históricos.', '\\n', 'Bruno Lima, autor de ficção científica.', 'Bruno Lima, autor de ficção científica.', '\\n', 'Clara Rocha, autora de poesia contemporânea.', 'Clara Rocha, autora de poesia contemporânea.', '\\n']\n"
     ]
    }
   ],
   "source": [
    "print([a.text for a in soup.find('ul').descendants])"
   ]
  },
  {
   "cell_type": "code",
   "execution_count": 79,
   "metadata": {},
   "outputs": [
    {
     "name": "stdout",
     "output_type": "stream",
     "text": [
      "['\\n', 'Alice Martins, autora de romances históricos.', 'Alice Martins, autora de romances históricos.', '\\n', 'Bruno Lima, autor de ficção científica.', 'Bruno Lima, autor de ficção científica.', '\\n', 'Clara Rocha, autora de poesia contemporânea.', 'Clara Rocha, autora de poesia contemporânea.', '\\n']\n"
     ]
    }
   ],
   "source": [
    "print(list(filter(None, [a.text for a in soup.find('ul').descendants])))"
   ]
  },
  {
   "cell_type": "code",
   "execution_count": 81,
   "metadata": {},
   "outputs": [
    {
     "name": "stdout",
     "output_type": "stream",
     "text": [
      "[<b>História dos Mestres da Literatura</b>]\n"
     ]
    }
   ],
   "source": [
    "# Retorna lista com todos\n",
    "print(soup.find('p').findChildren())"
   ]
  },
  {
   "cell_type": "code",
   "execution_count": 82,
   "metadata": {
    "id": "LGHBWVbFO3XJ"
   },
   "outputs": [
    {
     "name": "stdout",
     "output_type": "stream",
     "text": [
      "<b>História dos Mestres da Literatura</b>\n"
     ]
    }
   ],
   "source": [
    "#retorna o primeiro\n",
    "print(soup.find('p').findChild())"
   ]
  },
  {
   "cell_type": "code",
   "execution_count": 83,
   "metadata": {},
   "outputs": [
    {
     "name": "stdout",
     "output_type": "stream",
     "text": [
      "<p class=\"story\">Era uma vez três autores renomados; e seus nomes eram\n",
      "    <a class=\"autor\" href=\"http://www.exemplo.com/alice\" id=\"link1\">Alice</a>,\n",
      "    <a class=\"autor\" href=\"http://www.exemplo.com/bruno\" id=\"link2\">Bruno</a> e\n",
      "    <a class=\"autor\" href=\"http://www.exemplo.com/clara\" id=\"link3\">Clara</a>;\n",
      "    e eles viviam em Paris, na França.</p>\n"
     ]
    }
   ],
   "source": [
    "print(soup.find('a', 'autor').parent)"
   ]
  },
  {
   "cell_type": "code",
   "execution_count": 84,
   "metadata": {},
   "outputs": [
    {
     "name": "stdout",
     "output_type": "stream",
     "text": [
      "p\n"
     ]
    }
   ],
   "source": [
    "print(soup.find('a', 'autor').parent.name)"
   ]
  },
  {
   "cell_type": "code",
   "execution_count": 85,
   "metadata": {
    "id": "y9e-hZ6hPKPU"
   },
   "outputs": [
    {
     "name": "stdout",
     "output_type": "stream",
     "text": [
      "Era uma vez três autores renomados; e seus nomes eram\n",
      "    Alice,\n",
      "    Bruno e\n",
      "    Clara;\n",
      "    e eles viviam em Paris, na França.\n"
     ]
    }
   ],
   "source": [
    "print(soup.find('a', 'autor').parent.text)"
   ]
  },
  {
   "cell_type": "code",
   "execution_count": 86,
   "metadata": {
    "id": "9PhMrADvPLLS"
   },
   "outputs": [
    {
     "name": "stdout",
     "output_type": "stream",
     "text": [
      "p\n",
      "body\n",
      "html\n",
      "[document]\n"
     ]
    }
   ],
   "source": [
    "# pega a tag dos parents  \n",
    "for elemento in soup.find('a', 'autor').parents:\n",
    "    print(elemento.name)"
   ]
  },
  {
   "cell_type": "code",
   "execution_count": 47,
   "metadata": {},
   "outputs": [
    {
     "name": "stdout",
     "output_type": "stream",
     "text": [
      "<p class=\"historia\">Era uma vez três agentes especiais; e seus nomes eram\n",
      "<a class=\"agente\" href=\"http://www.exemplo.com/james\" id=\"link1\">James</a>,\n",
      "<a class=\"agente\" href=\"http://www.exemplo.com/julio\" id=\"link2\">Julio</a> e\n",
      "<a class=\"agente\" href=\"http://www.exemplo.com/jucimar\" id=\"link3\">Jucimar</a>;\n",
      "e eles viviam em Londres, na Inglaterra.</p>\n"
     ]
    }
   ],
   "source": [
    "# Encontra o nível anterior\n",
    "print(soup.find('a','agente').findParent())"
   ]
  },
  {
   "cell_type": "markdown",
   "metadata": {
    "id": "u5zhRgv4PYZE"
   },
   "source": [
    "### 4- Navegando Pelas Tags"
   ]
  },
  {
   "cell_type": "code",
   "execution_count": 5,
   "metadata": {},
   "outputs": [
    {
     "name": "stdout",
     "output_type": "stream",
     "text": [
      "<html>\n",
      "<head>\n",
      "<title>Os Mestres da Literatura</title>\n",
      "</head>\n",
      "<body>\n",
      "<p class=\"title\"><b>História dos Mestres da Literatura</b></p>\n",
      "<p class=\"story\">Era uma vez três autores renomados; e seus nomes eram\n",
      "    <a class=\"autor\" href=\"http://www.exemplo.com/alice\" id=\"link1\">Alice</a>,\n",
      "    <a class=\"autor\" href=\"http://www.exemplo.com/bruno\" id=\"link2\">Bruno</a> e\n",
      "    <a class=\"autor\" href=\"http://www.exemplo.com/clara\" id=\"link3\">Clara</a>;\n",
      "    e eles viviam em Paris, na França.</p>\n",
      "<p class=\"historia\">...</p>\n",
      "<h1>Mestres da Literatura</h1>\n",
      "<ul>\n",
      "<li data-id=\"23456\">Alice Martins, autora de romances históricos.</li>\n",
      "<li data-id=\"34567\">Bruno Lima, autor de ficção científica.</li>\n",
      "<li data-id=\"45678\">Clara Rocha, autora de poesia contemporânea.</li>\n",
      "</ul>\n",
      "</body>\n",
      "</html>\n",
      "\n"
     ]
    }
   ],
   "source": [
    "print(soup)"
   ]
  },
  {
   "cell_type": "code",
   "execution_count": 9,
   "metadata": {},
   "outputs": [
    {
     "name": "stdout",
     "output_type": "stream",
     "text": [
      "<b>História dos Mestres da Literatura</b>\n"
     ]
    }
   ],
   "source": [
    "print(soup.find('p').next)"
   ]
  },
  {
   "cell_type": "code",
   "execution_count": 12,
   "metadata": {},
   "outputs": [
    {
     "name": "stdout",
     "output_type": "stream",
     "text": [
      "<a class=\"autor\" href=\"http://www.exemplo.com/bruno\" id=\"link2\">Bruno</a>\n"
     ]
    }
   ],
   "source": [
    "print(soup.find('a').next.next.next)"
   ]
  },
  {
   "cell_type": "code",
   "execution_count": 13,
   "metadata": {},
   "outputs": [
    {
     "name": "stdout",
     "output_type": "stream",
     "text": [
      "Alice\n"
     ]
    }
   ],
   "source": [
    "print(soup.find('a','autor').next_element)"
   ]
  },
  {
   "cell_type": "code",
   "execution_count": 15,
   "metadata": {},
   "outputs": [
    {
     "name": "stdout",
     "output_type": "stream",
     "text": [
      "<a class=\"autor\" href=\"http://www.exemplo.com/bruno\" id=\"link2\">Bruno</a>\n"
     ]
    }
   ],
   "source": [
    "print(soup.find('a','autor').next_element.next_element.next_element)"
   ]
  },
  {
   "cell_type": "code",
   "execution_count": 21,
   "metadata": {},
   "outputs": [
    {
     "name": "stdout",
     "output_type": "stream",
     "text": [
      "Era uma vez três autores renomados; e seus nomes eram\n",
      "    \n"
     ]
    }
   ],
   "source": [
    "print(soup.find('a','autor').previous) "
   ]
  },
  {
   "cell_type": "code",
   "execution_count": 22,
   "metadata": {},
   "outputs": [
    {
     "name": "stdout",
     "output_type": "stream",
     "text": [
      "<p class=\"story\">Era uma vez três autores renomados; e seus nomes eram\n",
      "    <a class=\"autor\" href=\"http://www.exemplo.com/alice\" id=\"link1\">Alice</a>,\n",
      "    <a class=\"autor\" href=\"http://www.exemplo.com/bruno\" id=\"link2\">Bruno</a> e\n",
      "    <a class=\"autor\" href=\"http://www.exemplo.com/clara\" id=\"link3\">Clara</a>;\n",
      "    e eles viviam em Paris, na França.</p>\n"
     ]
    }
   ],
   "source": [
    "print(soup.find('a','autor').previous.previous)"
   ]
  },
  {
   "cell_type": "code",
   "execution_count": 23,
   "metadata": {},
   "outputs": [
    {
     "name": "stdout",
     "output_type": "stream",
     "text": [
      "Era uma vez três autores renomados; e seus nomes eram\n",
      "    \n"
     ]
    }
   ],
   "source": [
    "print(soup.find('a','autor').previous_element)"
   ]
  },
  {
   "cell_type": "code",
   "execution_count": 24,
   "metadata": {
    "id": "IWtXfhubPwxI"
   },
   "outputs": [
    {
     "name": "stdout",
     "output_type": "stream",
     "text": [
      "<p class=\"story\">Era uma vez três autores renomados; e seus nomes eram\n",
      "    <a class=\"autor\" href=\"http://www.exemplo.com/alice\" id=\"link1\">Alice</a>,\n",
      "    <a class=\"autor\" href=\"http://www.exemplo.com/bruno\" id=\"link2\">Bruno</a> e\n",
      "    <a class=\"autor\" href=\"http://www.exemplo.com/clara\" id=\"link3\">Clara</a>;\n",
      "    e eles viviam em Paris, na França.</p>\n"
     ]
    }
   ],
   "source": [
    "print(soup.find('a','autor').previous_element.previous_element)"
   ]
  },
  {
   "cell_type": "code",
   "execution_count": 27,
   "metadata": {},
   "outputs": [
    {
     "name": "stdout",
     "output_type": "stream",
     "text": [
      "\n",
      "\n",
      "<li data-id=\"23456\">Alice Martins, autora de romances históricos.</li>\n",
      "Alice Martins, autora de romances históricos.\n",
      "\n",
      "\n",
      "<li data-id=\"34567\">Bruno Lima, autor de ficção científica.</li>\n",
      "Bruno Lima, autor de ficção científica.\n",
      "\n",
      "\n",
      "<li data-id=\"45678\">Clara Rocha, autora de poesia contemporânea.</li>\n",
      "Clara Rocha, autora de poesia contemporânea.\n",
      "\n",
      "\n",
      "\n",
      "\n",
      "\n",
      "\n",
      "\n",
      "\n"
     ]
    }
   ],
   "source": [
    "for element in soup.find('ul').next_elements:\n",
    "    print(element)"
   ]
  },
  {
   "cell_type": "code",
   "execution_count": 28,
   "metadata": {},
   "outputs": [
    {
     "name": "stdout",
     "output_type": "stream",
     "text": [
      "<a class=\"autor\" href=\"http://www.exemplo.com/bruno\" id=\"link2\">Bruno</a>\n"
     ]
    }
   ],
   "source": [
    "print(soup.find('a','autor').find_next()) "
   ]
  },
  {
   "cell_type": "code",
   "execution_count": 29,
   "metadata": {},
   "outputs": [
    {
     "name": "stdout",
     "output_type": "stream",
     "text": [
      "<h1>Mestres da Literatura</h1>\n"
     ]
    }
   ],
   "source": [
    "print(soup.find('a','autor').find_next('h1'))"
   ]
  },
  {
   "cell_type": "code",
   "execution_count": 30,
   "metadata": {},
   "outputs": [
    {
     "name": "stdout",
     "output_type": "stream",
     "text": [
      "[<a class=\"autor\" href=\"http://www.exemplo.com/bruno\" id=\"link2\">Bruno</a>, <a class=\"autor\" href=\"http://www.exemplo.com/clara\" id=\"link3\">Clara</a>, <p class=\"historia\">...</p>, <h1>Mestres da Literatura</h1>, <ul>\n",
      "<li data-id=\"23456\">Alice Martins, autora de romances históricos.</li>\n",
      "<li data-id=\"34567\">Bruno Lima, autor de ficção científica.</li>\n",
      "<li data-id=\"45678\">Clara Rocha, autora de poesia contemporânea.</li>\n",
      "</ul>, <li data-id=\"23456\">Alice Martins, autora de romances históricos.</li>, <li data-id=\"34567\">Bruno Lima, autor de ficção científica.</li>, <li data-id=\"45678\">Clara Rocha, autora de poesia contemporânea.</li>]\n"
     ]
    }
   ],
   "source": [
    "print(soup.find('a','autor').find_all_next())"
   ]
  },
  {
   "cell_type": "code",
   "execution_count": 33,
   "metadata": {},
   "outputs": [
    {
     "name": "stdout",
     "output_type": "stream",
     "text": [
      "[<li data-id=\"23456\">Alice Martins, autora de romances históricos.</li>, <li data-id=\"34567\">Bruno Lima, autor de ficção científica.</li>]\n"
     ]
    }
   ],
   "source": [
    "print(soup.find('a','autor').find_all_next('li', limit = 2))"
   ]
  },
  {
   "cell_type": "code",
   "execution_count": 36,
   "metadata": {
    "id": "kkiaUjBaQZr8"
   },
   "outputs": [
    {
     "name": "stdout",
     "output_type": "stream",
     "text": [
      "[<p class=\"historia\">...</p>, <p class=\"story\">Era uma vez três autores renomados; e seus nomes eram\n",
      "    <a class=\"autor\" href=\"http://www.exemplo.com/alice\" id=\"link1\">Alice</a>,\n",
      "    <a class=\"autor\" href=\"http://www.exemplo.com/bruno\" id=\"link2\">Bruno</a> e\n",
      "    <a class=\"autor\" href=\"http://www.exemplo.com/clara\" id=\"link3\">Clara</a>;\n",
      "    e eles viviam em Paris, na França.</p>, <p class=\"title\"><b>História dos Mestres da Literatura</b></p>]\n"
     ]
    }
   ],
   "source": [
    "print(soup.find('ul').find_all_previous('p'))"
   ]
  },
  {
   "cell_type": "code",
   "execution_count": 35,
   "metadata": {},
   "outputs": [
    {
     "name": "stdout",
     "output_type": "stream",
     "text": [
      "<p class=\"title\"><b>História dos Mestres da Literatura</b></p>\n"
     ]
    }
   ],
   "source": [
    "print(soup.find('ul').find_previous('p','title'))"
   ]
  },
  {
   "cell_type": "code",
   "execution_count": 46,
   "metadata": {},
   "outputs": [
    {
     "name": "stdout",
     "output_type": "stream",
     "text": [
      "<p class=\"story\">Era uma vez três autores renomados; e seus nomes eram\n",
      "    <a class=\"autor\" href=\"http://www.exemplo.com/alice\" id=\"link1\">Alice</a>,\n",
      "    <a class=\"autor\" href=\"http://www.exemplo.com/bruno\" id=\"link2\">Bruno</a> e\n",
      "    <a class=\"autor\" href=\"http://www.exemplo.com/clara\" id=\"link3\">Clara</a>;\n",
      "    e eles viviam em Paris, na França.</p>\n",
      "\n",
      " next elements \n",
      "\n",
      "História dos Mestres da Literatura\n",
      "História dos Mestres da Literatura\n"
     ]
    }
   ],
   "source": [
    "print(soup.find('p','title').next_sibling.next_sibling)\n",
    "print('\\n next elements \\n')\n",
    "print(soup.find('p','title').next_element.next_element)\n",
    "print(soup.find('p','title').next.next)"
   ]
  },
  {
   "cell_type": "code",
   "execution_count": 50,
   "metadata": {
    "id": "gT8eKYjUQdno"
   },
   "outputs": [
    {
     "name": "stdout",
     "output_type": "stream",
     "text": [
      "<h1>Mestres da Literatura</h1>\n"
     ]
    }
   ],
   "source": [
    "print(soup.find('ul').previous_sibling.previous_sibling)"
   ]
  },
  {
   "cell_type": "code",
   "execution_count": 53,
   "metadata": {},
   "outputs": [
    {
     "name": "stdout",
     "output_type": "stream",
     "text": [
      "['p', 'p', 'h1', 'ul']\n"
     ]
    }
   ],
   "source": [
    "title = [ele.name for ele in soup.find('p','title').next_siblings]\n",
    "print(list(filter(None,title)))"
   ]
  },
  {
   "cell_type": "code",
   "execution_count": 57,
   "metadata": {},
   "outputs": [
    {
     "name": "stdout",
     "output_type": "stream",
     "text": [
      "[<p class=\"story\">Era uma vez três autores renomados; e seus nomes eram\n",
      "    <a class=\"autor\" href=\"http://www.exemplo.com/alice\" id=\"link1\">Alice</a>,\n",
      "    <a class=\"autor\" href=\"http://www.exemplo.com/bruno\" id=\"link2\">Bruno</a> e\n",
      "    <a class=\"autor\" href=\"http://www.exemplo.com/clara\" id=\"link3\">Clara</a>;\n",
      "    e eles viviam em Paris, na França.</p>, <p class=\"historia\">...</p>]\n"
     ]
    }
   ],
   "source": [
    "print(soup.find('p','title').find_next_siblings('p'))"
   ]
  },
  {
   "cell_type": "code",
   "execution_count": 62,
   "metadata": {},
   "outputs": [
    {
     "name": "stdout",
     "output_type": "stream",
     "text": [
      "<h1>Mestres da Literatura</h1>\n",
      "\n",
      " next \n",
      "\n",
      "<ul>\n",
      "<li data-id=\"23456\">Alice Martins, autora de romances históricos.</li>\n",
      "<li data-id=\"34567\">Bruno Lima, autor de ficção científica.</li>\n",
      "<li data-id=\"45678\">Clara Rocha, autora de poesia contemporânea.</li>\n",
      "</ul>\n"
     ]
    }
   ],
   "source": [
    "print(soup.find('h1'))\n",
    "\n",
    "print('\\n next \\n')\n",
    "\n",
    "print(soup.find('h1').find_next_sibling())"
   ]
  },
  {
   "cell_type": "markdown",
   "metadata": {
    "id": "cDn6Qf-BQvob"
   },
   "source": [
    "### 5 - Usando Seletor CSS e Combinando Elementos"
   ]
  },
  {
   "cell_type": "code",
   "execution_count": 63,
   "metadata": {},
   "outputs": [
    {
     "name": "stdout",
     "output_type": "stream",
     "text": [
      "<html>\n",
      "<head>\n",
      "<title>Os Mestres da Literatura</title>\n",
      "</head>\n",
      "<body>\n",
      "<p class=\"title\"><b>História dos Mestres da Literatura</b></p>\n",
      "<p class=\"story\">Era uma vez três autores renomados; e seus nomes eram\n",
      "    <a class=\"autor\" href=\"http://www.exemplo.com/alice\" id=\"link1\">Alice</a>,\n",
      "    <a class=\"autor\" href=\"http://www.exemplo.com/bruno\" id=\"link2\">Bruno</a> e\n",
      "    <a class=\"autor\" href=\"http://www.exemplo.com/clara\" id=\"link3\">Clara</a>;\n",
      "    e eles viviam em Paris, na França.</p>\n",
      "<p class=\"historia\">...</p>\n",
      "<h1>Mestres da Literatura</h1>\n",
      "<ul>\n",
      "<li data-id=\"23456\">Alice Martins, autora de romances históricos.</li>\n",
      "<li data-id=\"34567\">Bruno Lima, autor de ficção científica.</li>\n",
      "<li data-id=\"45678\">Clara Rocha, autora de poesia contemporânea.</li>\n",
      "</ul>\n",
      "</body>\n",
      "</html>\n",
      "\n"
     ]
    }
   ],
   "source": [
    "print(soup)"
   ]
  },
  {
   "cell_type": "code",
   "execution_count": 64,
   "metadata": {},
   "outputs": [
    {
     "name": "stdout",
     "output_type": "stream",
     "text": [
      "[<li data-id=\"23456\">Alice Martins, autora de romances históricos.</li>, <li data-id=\"34567\">Bruno Lima, autor de ficção científica.</li>, <li data-id=\"45678\">Clara Rocha, autora de poesia contemporânea.</li>]\n"
     ]
    }
   ],
   "source": [
    "print(soup.select('li[data-id]'))"
   ]
  },
  {
   "cell_type": "code",
   "execution_count": 65,
   "metadata": {},
   "outputs": [
    {
     "name": "stdout",
     "output_type": "stream",
     "text": [
      "<li data-id=\"34567\">Bruno Lima, autor de ficção científica.</li>\n"
     ]
    }
   ],
   "source": [
    "print(soup.select('ul li[data-id]')[1]) "
   ]
  },
  {
   "cell_type": "code",
   "execution_count": 66,
   "metadata": {
    "id": "DN0s8WngQyWX"
   },
   "outputs": [
    {
     "name": "stdout",
     "output_type": "stream",
     "text": [
      "<li data-id=\"23456\">Alice Martins, autora de romances históricos.</li>\n"
     ]
    }
   ],
   "source": [
    "print(soup.select_one('li[data-id]'))"
   ]
  },
  {
   "cell_type": "code",
   "execution_count": 68,
   "metadata": {},
   "outputs": [
    {
     "name": "stdout",
     "output_type": "stream",
     "text": [
      "[<a class=\"autor\" href=\"http://www.exemplo.com/alice\" id=\"link1\">Alice</a>, <a class=\"autor\" href=\"http://www.exemplo.com/bruno\" id=\"link2\">Bruno</a>, <a class=\"autor\" href=\"http://www.exemplo.com/clara\" id=\"link3\">Clara</a>]\n"
     ]
    }
   ],
   "source": [
    "print(soup.select('p.story > a.autor'))"
   ]
  },
  {
   "cell_type": "code",
   "execution_count": 69,
   "metadata": {},
   "outputs": [
    {
     "name": "stdout",
     "output_type": "stream",
     "text": [
      "[<b>História dos Mestres da Literatura</b>]\n"
     ]
    }
   ],
   "source": [
    "# Acessa o b dentro de p\n",
    "print(soup.select('p b'))"
   ]
  },
  {
   "cell_type": "code",
   "execution_count": 80,
   "metadata": {},
   "outputs": [
    {
     "name": "stdout",
     "output_type": "stream",
     "text": [
      "[<p class=\"title\"><b>História dos Mestres da Literatura</b></p>, <p class=\"story\">Era uma vez três autores renomados; e seus nomes eram\n",
      "    <a class=\"autor\" href=\"http://www.exemplo.com/alice\" id=\"link1\">Alice</a>,\n",
      "    <a class=\"autor\" href=\"http://www.exemplo.com/bruno\" id=\"link2\">Bruno</a> e\n",
      "    <a class=\"autor\" href=\"http://www.exemplo.com/clara\" id=\"link3\">Clara</a>;\n",
      "    e eles viviam em Paris, na França.</p>, <p class=\"historia\">...</p>]\n",
      "[<p class=\"story\">Era uma vez três autores renomados; e seus nomes eram\n",
      "    <a class=\"autor\" href=\"http://www.exemplo.com/alice\" id=\"link1\">Alice</a>,\n",
      "    <a class=\"autor\" href=\"http://www.exemplo.com/bruno\" id=\"link2\">Bruno</a> e\n",
      "    <a class=\"autor\" href=\"http://www.exemplo.com/clara\" id=\"link3\">Clara</a>;\n",
      "    e eles viviam em Paris, na França.</p>, <p class=\"historia\">...</p>]\n",
      "[<h1>Mestres da Literatura</h1>]\n",
      "[<h1>Mestres da Literatura</h1>]\n",
      "[<h1>Mestres da Literatura</h1>]\n"
     ]
    }
   ],
   "source": [
    "# Acessando elementos\n",
    "print(soup.select('p'))\n",
    "print(soup.select('p + p'))\n",
    "print(soup.select('h1'))\n",
    "print(soup.select('p + h1'))\n",
    "print(soup.select('p.historia + h1'))"
   ]
  },
  {
   "cell_type": "code",
   "execution_count": 81,
   "metadata": {},
   "outputs": [
    {
     "name": "stdout",
     "output_type": "stream",
     "text": [
      "[<a class=\"autor\" href=\"http://www.exemplo.com/alice\" id=\"link1\">Alice</a>, <a class=\"autor\" href=\"http://www.exemplo.com/bruno\" id=\"link2\">Bruno</a>, <a class=\"autor\" href=\"http://www.exemplo.com/clara\" id=\"link3\">Clara</a>]\n"
     ]
    }
   ],
   "source": [
    "print(soup.select('a[href*=\"exemplo.com\"]'))"
   ]
  },
  {
   "cell_type": "code",
   "execution_count": 82,
   "metadata": {
    "id": "iBjMs-8vQ8Ck"
   },
   "outputs": [
    {
     "name": "stdout",
     "output_type": "stream",
     "text": [
      "[<a class=\"autor\" href=\"http://www.exemplo.com/alice\" id=\"link1\">Alice</a>, <a class=\"autor\" href=\"http://www.exemplo.com/bruno\" id=\"link2\">Bruno</a>, <a class=\"autor\" href=\"http://www.exemplo.com/clara\" id=\"link3\">Clara</a>]\n"
     ]
    }
   ],
   "source": [
    "print(soup.select('a[id*=\"link\"]'))"
   ]
  }
 ],
 "metadata": {
  "colab": {
   "name": "hwspSec2_BS4_Scrapy.ipynb",
   "provenance": []
  },
  "kernelspec": {
   "display_name": "Python 3 (ipykernel)",
   "language": "python",
   "name": "python3"
  },
  "language_info": {
   "codemirror_mode": {
    "name": "ipython",
    "version": 3
   },
   "file_extension": ".py",
   "mimetype": "text/x-python",
   "name": "python",
   "nbconvert_exporter": "python",
   "pygments_lexer": "ipython3",
   "version": "3.10.2"
  }
 },
 "nbformat": 4,
 "nbformat_minor": 1
}
